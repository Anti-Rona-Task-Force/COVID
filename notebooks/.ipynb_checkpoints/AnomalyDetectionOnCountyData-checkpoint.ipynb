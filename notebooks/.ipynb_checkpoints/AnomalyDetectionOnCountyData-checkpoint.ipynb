{
 "cells": [
  {
   "cell_type": "code",
   "execution_count": 7,
   "metadata": {},
   "outputs": [],
   "source": [
    "import numpy as np"
   ]
  },
  {
   "cell_type": "code",
   "execution_count": 8,
   "metadata": {},
   "outputs": [],
   "source": [
    "import pandas as pd"
   ]
  },
  {
   "cell_type": "code",
   "execution_count": 9,
   "metadata": {},
   "outputs": [],
   "source": [
    "from scipy.stats import binom"
   ]
  },
  {
   "cell_type": "code",
   "execution_count": 10,
   "metadata": {},
   "outputs": [],
   "source": [
    "import sys\n",
    "sys.path.append('/usr/local/lib/python3.8/site-packages')\n",
    "import matplotlib.pyplot as plt\n",
    "from sklearn.ensemble import IsolationForest\n",
    "from sklearn.neighbors import LocalOutlierFactor"
   ]
  },
  {
   "cell_type": "code",
   "execution_count": 25,
   "metadata": {},
   "outputs": [],
   "source": [
    "import csv"
   ]
  },
  {
   "cell_type": "code",
   "execution_count": 48,
   "metadata": {},
   "outputs": [],
   "source": [
    "import os"
   ]
  },
  {
   "cell_type": "code",
   "execution_count": 45,
   "metadata": {},
   "outputs": [],
   "source": [
    "import os.path\n",
    "from os import path"
   ]
  },
  {
   "cell_type": "code",
   "execution_count": 11,
   "metadata": {},
   "outputs": [],
   "source": [
    "snapData = pd.read_csv('../data/raw/countiesDataPerCapitaSnapshot.csv')"
   ]
  },
  {
   "cell_type": "code",
   "execution_count": 12,
   "metadata": {},
   "outputs": [
    {
     "data": {
      "text/html": [
       "<div>\n",
       "<style scoped>\n",
       "    .dataframe tbody tr th:only-of-type {\n",
       "        vertical-align: middle;\n",
       "    }\n",
       "\n",
       "    .dataframe tbody tr th {\n",
       "        vertical-align: top;\n",
       "    }\n",
       "\n",
       "    .dataframe thead th {\n",
       "        text-align: right;\n",
       "    }\n",
       "</style>\n",
       "<table border=\"1\" class=\"dataframe\">\n",
       "  <thead>\n",
       "    <tr style=\"text-align: right;\">\n",
       "      <th></th>\n",
       "      <th>date</th>\n",
       "      <th>county</th>\n",
       "      <th>state</th>\n",
       "      <th>pop</th>\n",
       "      <th>cases</th>\n",
       "      <th>deaths</th>\n",
       "      <th>casesPerCapita</th>\n",
       "      <th>deathsPerCapita</th>\n",
       "    </tr>\n",
       "  </thead>\n",
       "  <tbody>\n",
       "    <tr>\n",
       "      <th>0</th>\n",
       "      <td>44034</td>\n",
       "      <td>Autauga County</td>\n",
       "      <td>Alabama</td>\n",
       "      <td>71518.0</td>\n",
       "      <td>886</td>\n",
       "      <td>21</td>\n",
       "      <td>0.012388</td>\n",
       "      <td>0.000294</td>\n",
       "    </tr>\n",
       "    <tr>\n",
       "      <th>1</th>\n",
       "      <td>44034</td>\n",
       "      <td>Baldwin County</td>\n",
       "      <td>Alabama</td>\n",
       "      <td>45720.0</td>\n",
       "      <td>2196</td>\n",
       "      <td>16</td>\n",
       "      <td>0.048031</td>\n",
       "      <td>0.000350</td>\n",
       "    </tr>\n",
       "    <tr>\n",
       "      <th>2</th>\n",
       "      <td>44034</td>\n",
       "      <td>Barbour County</td>\n",
       "      <td>Alabama</td>\n",
       "      <td>18395.0</td>\n",
       "      <td>518</td>\n",
       "      <td>4</td>\n",
       "      <td>0.028160</td>\n",
       "      <td>0.000217</td>\n",
       "    </tr>\n",
       "    <tr>\n",
       "      <th>3</th>\n",
       "      <td>44034</td>\n",
       "      <td>Bibb County</td>\n",
       "      <td>Alabama</td>\n",
       "      <td>155547.0</td>\n",
       "      <td>287</td>\n",
       "      <td>2</td>\n",
       "      <td>0.001845</td>\n",
       "      <td>0.000013</td>\n",
       "    </tr>\n",
       "    <tr>\n",
       "      <th>4</th>\n",
       "      <td>44034</td>\n",
       "      <td>Blount County</td>\n",
       "      <td>Alabama</td>\n",
       "      <td>13063.0</td>\n",
       "      <td>547</td>\n",
       "      <td>1</td>\n",
       "      <td>0.041874</td>\n",
       "      <td>0.000077</td>\n",
       "    </tr>\n",
       "  </tbody>\n",
       "</table>\n",
       "</div>"
      ],
      "text/plain": [
       "    date          county    state       pop  cases  deaths  casesPerCapita  \\\n",
       "0  44034  Autauga County  Alabama   71518.0    886      21        0.012388   \n",
       "1  44034  Baldwin County  Alabama   45720.0   2196      16        0.048031   \n",
       "2  44034  Barbour County  Alabama   18395.0    518       4        0.028160   \n",
       "3  44034     Bibb County  Alabama  155547.0    287       2        0.001845   \n",
       "4  44034   Blount County  Alabama   13063.0    547       1        0.041874   \n",
       "\n",
       "   deathsPerCapita  \n",
       "0         0.000294  \n",
       "1         0.000350  \n",
       "2         0.000217  \n",
       "3         0.000013  \n",
       "4         0.000077  "
      ]
     },
     "execution_count": 12,
     "metadata": {},
     "output_type": "execute_result"
    }
   ],
   "source": [
    "snapData.head()"
   ]
  },
  {
   "cell_type": "code",
   "execution_count": 13,
   "metadata": {},
   "outputs": [
    {
     "name": "stdout",
     "output_type": "stream",
     "text": [
      "<class 'pandas.core.frame.DataFrame'>\n",
      "RangeIndex: 3206 entries, 0 to 3205\n",
      "Data columns (total 8 columns):\n",
      " #   Column           Non-Null Count  Dtype  \n",
      "---  ------           --------------  -----  \n",
      " 0   date             3206 non-null   int64  \n",
      " 1   county           3206 non-null   object \n",
      " 2   state            3206 non-null   object \n",
      " 3   pop              3128 non-null   float64\n",
      " 4   cases            3206 non-null   int64  \n",
      " 5   deaths           3206 non-null   int64  \n",
      " 6   casesPerCapita   3128 non-null   float64\n",
      " 7   deathsPerCapita  3128 non-null   float64\n",
      "dtypes: float64(3), int64(3), object(2)\n",
      "memory usage: 200.5+ KB\n"
     ]
    }
   ],
   "source": [
    "snapData.info()"
   ]
  },
  {
   "cell_type": "code",
   "execution_count": 14,
   "metadata": {},
   "outputs": [
    {
     "data": {
      "text/html": [
       "<div>\n",
       "<style scoped>\n",
       "    .dataframe tbody tr th:only-of-type {\n",
       "        vertical-align: middle;\n",
       "    }\n",
       "\n",
       "    .dataframe tbody tr th {\n",
       "        vertical-align: top;\n",
       "    }\n",
       "\n",
       "    .dataframe thead th {\n",
       "        text-align: right;\n",
       "    }\n",
       "</style>\n",
       "<table border=\"1\" class=\"dataframe\">\n",
       "  <thead>\n",
       "    <tr style=\"text-align: right;\">\n",
       "      <th></th>\n",
       "      <th>date</th>\n",
       "      <th>pop</th>\n",
       "      <th>cases</th>\n",
       "      <th>deaths</th>\n",
       "      <th>casesPerCapita</th>\n",
       "      <th>deathsPerCapita</th>\n",
       "    </tr>\n",
       "  </thead>\n",
       "  <tbody>\n",
       "    <tr>\n",
       "      <th>count</th>\n",
       "      <td>3206.0</td>\n",
       "      <td>3.128000e+03</td>\n",
       "      <td>3206.000000</td>\n",
       "      <td>3206.000000</td>\n",
       "      <td>3128.000000</td>\n",
       "      <td>3128.000000</td>\n",
       "    </tr>\n",
       "    <tr>\n",
       "      <th>mean</th>\n",
       "      <td>44034.0</td>\n",
       "      <td>7.145710e+04</td>\n",
       "      <td>1241.431691</td>\n",
       "      <td>44.598253</td>\n",
       "      <td>0.084160</td>\n",
       "      <td>0.002930</td>\n",
       "    </tr>\n",
       "    <tr>\n",
       "      <th>std</th>\n",
       "      <td>0.0</td>\n",
       "      <td>1.586812e+05</td>\n",
       "      <td>6680.148556</td>\n",
       "      <td>447.486339</td>\n",
       "      <td>0.666674</td>\n",
       "      <td>0.030307</td>\n",
       "    </tr>\n",
       "    <tr>\n",
       "      <th>min</th>\n",
       "      <td>44034.0</td>\n",
       "      <td>9.840000e+02</td>\n",
       "      <td>0.000000</td>\n",
       "      <td>0.000000</td>\n",
       "      <td>0.000000</td>\n",
       "      <td>0.000000</td>\n",
       "    </tr>\n",
       "    <tr>\n",
       "      <th>25%</th>\n",
       "      <td>44034.0</td>\n",
       "      <td>1.099800e+04</td>\n",
       "      <td>40.000000</td>\n",
       "      <td>0.000000</td>\n",
       "      <td>0.001228</td>\n",
       "      <td>0.000000</td>\n",
       "    </tr>\n",
       "    <tr>\n",
       "      <th>50%</th>\n",
       "      <td>44034.0</td>\n",
       "      <td>2.331600e+04</td>\n",
       "      <td>146.000000</td>\n",
       "      <td>2.000000</td>\n",
       "      <td>0.006062</td>\n",
       "      <td>0.000067</td>\n",
       "    </tr>\n",
       "    <tr>\n",
       "      <th>75%</th>\n",
       "      <td>44034.0</td>\n",
       "      <td>5.349700e+04</td>\n",
       "      <td>558.750000</td>\n",
       "      <td>12.000000</td>\n",
       "      <td>0.025719</td>\n",
       "      <td>0.000533</td>\n",
       "    </tr>\n",
       "    <tr>\n",
       "      <th>max</th>\n",
       "      <td>44034.0</td>\n",
       "      <td>1.809034e+06</td>\n",
       "      <td>227130.000000</td>\n",
       "      <td>22899.000000</td>\n",
       "      <td>28.604698</td>\n",
       "      <td>1.370470</td>\n",
       "    </tr>\n",
       "  </tbody>\n",
       "</table>\n",
       "</div>"
      ],
      "text/plain": [
       "          date           pop          cases        deaths  casesPerCapita  \\\n",
       "count   3206.0  3.128000e+03    3206.000000   3206.000000     3128.000000   \n",
       "mean   44034.0  7.145710e+04    1241.431691     44.598253        0.084160   \n",
       "std        0.0  1.586812e+05    6680.148556    447.486339        0.666674   \n",
       "min    44034.0  9.840000e+02       0.000000      0.000000        0.000000   \n",
       "25%    44034.0  1.099800e+04      40.000000      0.000000        0.001228   \n",
       "50%    44034.0  2.331600e+04     146.000000      2.000000        0.006062   \n",
       "75%    44034.0  5.349700e+04     558.750000     12.000000        0.025719   \n",
       "max    44034.0  1.809034e+06  227130.000000  22899.000000       28.604698   \n",
       "\n",
       "       deathsPerCapita  \n",
       "count      3128.000000  \n",
       "mean          0.002930  \n",
       "std           0.030307  \n",
       "min           0.000000  \n",
       "25%           0.000000  \n",
       "50%           0.000067  \n",
       "75%           0.000533  \n",
       "max           1.370470  "
      ]
     },
     "execution_count": 14,
     "metadata": {},
     "output_type": "execute_result"
    }
   ],
   "source": [
    "snapData.describe()"
   ]
  },
  {
   "cell_type": "code",
   "execution_count": 15,
   "metadata": {},
   "outputs": [],
   "source": [
    "snapData = snapData.dropna()"
   ]
  },
  {
   "cell_type": "code",
   "execution_count": 16,
   "metadata": {},
   "outputs": [
    {
     "data": {
      "image/png": "[encoded data removed]",
      "text/plain": [
       "<Figure size 432x288 with 1 Axes>"
      ]
     },
     "metadata": {
      "needs_background": "light"
     },
     "output_type": "display_data"
    }
   ],
   "source": [
    "casesHist = snapData['casesPerCapita'].hist(bins=10)"
   ]
  },
  {
   "cell_type": "code",
   "execution_count": 17,
   "metadata": {},
   "outputs": [
    {
     "data": {
      "image/png": "[encoded data removed]",
      "text/plain": [
       "<Figure size 432x288 with 1 Axes>"
      ]
     },
     "metadata": {
      "needs_background": "light"
     },
     "output_type": "display_data"
    }
   ],
   "source": [
    "casesHist = snapData['deathsPerCapita'].hist(bins=10)"
   ]
  },
  {
   "cell_type": "code",
   "execution_count": 18,
   "metadata": {},
   "outputs": [
    {
     "name": "stdout",
     "output_type": "stream",
     "text": [
      "       date                  county          state       pop   cases  deaths  \\\n",
      "101   44034         Maricopa County        Arizona   28120.0  100543    1599   \n",
      "203   44034      Los Angeles County     California   14464.0  164870    4213   \n",
      "220   44034        San Diego County     California    8865.0   25170     505   \n",
      "305   44034        Fairfield County    Connecticut   11000.0   17164    1399   \n",
      "306   44034         Hartford County    Connecticut   25213.0   12147    1407   \n",
      "316   44034           Sussex County       Delaware    1490.0    5375     179   \n",
      "361   44034       Miami-Dade County        Florida   21992.0   92344    1342   \n",
      "608   44034             Cook County       Illinois   17212.0  100124    4801   \n",
      "744   44034           Marion County        Indiana    8742.0   13228     758   \n",
      "1208  44034       Montgomery County       Maryland    9123.0   16631     776   \n",
      "1209  44034  Prince George's County       Maryland    4470.0   21418     727   \n",
      "1226  44034        Middlesex County  Massachusetts   21992.0   25084    1951   \n",
      "1230  44034          Suffolk County  Massachusetts    1490.0   20678    1039   \n",
      "1232  44034        Worcester County  Massachusetts    7208.0   12933     971   \n",
      "1315  44034            Wayne County       Michigan   42481.0   25544    2786   \n",
      "1343  44034         Hennepin County      Minnesota   11834.0   15273     803   \n",
      "1588  44034        St. Louis County       Missouri    8490.0    9624     619   \n",
      "1763  44034           Bergen County     New Jersey   17634.0   20362    2031   \n",
      "1768  44034            Essex County     New Jersey   22598.0   19420    2089   \n",
      "1769  44034       Gloucester County     New Jersey    3082.0    2877     199   \n",
      "1772  44034           Mercer County     New Jersey    8742.0    7901     608   \n",
      "1773  44034        Middlesex County     New Jersey   21992.0   17591    1392   \n",
      "1780  44034           Sussex County     New Jersey    1490.0    1293     195   \n",
      "1781  44034            Union County     New Jersey    9208.0   16526    1342   \n",
      "1844  44034    New York City County       New York  189885.0  227130   22899   \n",
      "1863  44034          Suffolk County       New York    1490.0   42621    2042   \n",
      "1871  44034      Westchester County       New York    9154.0   35635    1574   \n",
      "2105  44034           Summit County           Ohio    1490.0    2712     212   \n",
      "2274  44034       Montgomery County   Pennsylvania    9123.0    9282     839   \n",
      "2279  44034     Philadelphia County   Pennsylvania   22350.0   28874    1673   \n",
      "2378  44034       Providence County   Rhode Island    4470.0   14033     801   \n",
      "3150  44034        Milwaukee County      Wisconsin    6125.0   16911     417   \n",
      "\n",
      "      casesPerCapita  deathsPerCapita    scores  anomaly  \n",
      "101         3.575498         0.056863 -0.001778       -1  \n",
      "203        11.398645         0.291275 -0.081731       -1  \n",
      "220         2.839255         0.056966 -0.001778       -1  \n",
      "305         1.560364         0.127182 -0.056336       -1  \n",
      "306         0.481775         0.055805 -0.001247       -1  \n",
      "316         3.607383         0.120134 -0.056905       -1  \n",
      "361         4.198981         0.061022 -0.000716       -1  \n",
      "608         5.817104         0.278933 -0.081731       -1  \n",
      "744         1.513155         0.086708 -0.023996       -1  \n",
      "1208        1.822975         0.085060 -0.023996       -1  \n",
      "1209        4.791499         0.162640 -0.066633       -1  \n",
      "1226        1.140597         0.088714 -0.027283       -1  \n",
      "1230       13.877852         0.697315 -0.089971       -1  \n",
      "1232        1.794256         0.134711 -0.059184       -1  \n",
      "1315        0.601304         0.065582 -0.004441       -1  \n",
      "1343        1.290603         0.067855 -0.004441       -1  \n",
      "1588        1.133569         0.072909 -0.011407       -1  \n",
      "1763        1.154701         0.115175 -0.055200       -1  \n",
      "1768        0.859368         0.092442 -0.028382       -1  \n",
      "1769        0.933485         0.064568 -0.003908       -1  \n",
      "1772        0.903798         0.069549 -0.008184       -1  \n",
      "1773        0.799882         0.063296 -0.003375       -1  \n",
      "1780        0.867785         0.130872 -0.058614       -1  \n",
      "1781        1.794744         0.145743 -0.066058       -1  \n",
      "1844        1.196145         0.120594 -0.056905       -1  \n",
      "1863       28.604698         1.370470 -0.098289       -1  \n",
      "1871        3.892834         0.171947 -0.068939       -1  \n",
      "2105        1.820134         0.142282 -0.063760       -1  \n",
      "2274        1.017428         0.091965 -0.028382       -1  \n",
      "2279        1.291902         0.074855 -0.014215       -1  \n",
      "2378        3.139374         0.179195 -0.070672       -1  \n",
      "3150        2.760980         0.068082 -0.005509       -1  \n"
     ]
    }
   ],
   "source": [
    "model=IsolationForest(n_estimators=100, max_samples='auto', contamination=float(0.01),max_features=1.0)\n",
    "model.fit(snapData[['deathsPerCapita']])\n",
    "snapData['scores']=model.decision_function(snapData[['deathsPerCapita']])\n",
    "snapData['anomaly']=model.predict(snapData[['deathsPerCapita']])\n",
    "anomaly=snapData.loc[snapData['anomaly']==-1]\n",
    "anomaly_index=list(anomaly.index)\n",
    "print(anomaly)"
   ]
  },
  {
   "cell_type": "code",
   "execution_count": 19,
   "metadata": {},
   "outputs": [
    {
     "data": {
      "text/plain": [
       "date               32\n",
       "county             32\n",
       "state              32\n",
       "pop                32\n",
       "cases              32\n",
       "deaths             32\n",
       "casesPerCapita     32\n",
       "deathsPerCapita    32\n",
       "scores             32\n",
       "anomaly            32\n",
       "dtype: int64"
      ]
     },
     "execution_count": 19,
     "metadata": {},
     "output_type": "execute_result"
    }
   ],
   "source": [
    "anomaly.count()"
   ]
  },
  {
   "cell_type": "markdown",
   "metadata": {},
   "source": [
    "# Local Outlier Factor"
   ]
  },
  {
   "cell_type": "code",
   "execution_count": 20,
   "metadata": {},
   "outputs": [],
   "source": [
    "lof_model = LocalOutlierFactor(contamination=.02)\n",
    "lof_labels = lof_model.fit_predict(snapData[['cases', 'deaths', 'casesPerCapita', 'deathsPerCapita']])\n",
    "sns.scatterplot(x=anomaly_data['unix'], y=anomaly_data['value'], hue=anomaly_lbls, palette=colors)"
   ]
  },
  {
   "cell_type": "code",
   "execution_count": null,
   "metadata": {},
   "outputs": [],
   "source": []
  },
  {
   "cell_type": "code",
   "execution_count": null,
   "metadata": {},
   "outputs": [],
   "source": []
  },
  {
   "cell_type": "code",
   "execution_count": 17,
   "metadata": {},
   "outputs": [],
   "source": [
    "allData = pd.read_csv('../data/raw/us-counties-pcd.csv')"
   ]
  },
  {
   "cell_type": "code",
   "execution_count": 19,
   "metadata": {},
   "outputs": [],
   "source": [
    "minDate = allData['date'].min()\n",
    "maxDate = allData['date'].max()"
   ]
  },
  {
   "cell_type": "code",
   "execution_count": 20,
   "metadata": {},
   "outputs": [
    {
     "data": {
      "text/plain": [
       "43851"
      ]
     },
     "execution_count": 20,
     "metadata": {},
     "output_type": "execute_result"
    }
   ],
   "source": [
    "minDate"
   ]
  },
  {
   "cell_type": "code",
   "execution_count": 21,
   "metadata": {},
   "outputs": [
    {
     "data": {
      "text/plain": [
       "44140"
      ]
     },
     "execution_count": 21,
     "metadata": {},
     "output_type": "execute_result"
    }
   ],
   "source": [
    "maxDate"
   ]
  },
  {
   "cell_type": "code",
   "execution_count": 24,
   "metadata": {},
   "outputs": [
    {
     "data": {
      "text/html": [
       "<div>\n",
       "<style scoped>\n",
       "    .dataframe tbody tr th:only-of-type {\n",
       "        vertical-align: middle;\n",
       "    }\n",
       "\n",
       "    .dataframe tbody tr th {\n",
       "        vertical-align: top;\n",
       "    }\n",
       "\n",
       "    .dataframe thead th {\n",
       "        text-align: right;\n",
       "    }\n",
       "</style>\n",
       "<table border=\"1\" class=\"dataframe\">\n",
       "  <thead>\n",
       "    <tr style=\"text-align: right;\">\n",
       "      <th></th>\n",
       "      <th>date</th>\n",
       "      <th>county</th>\n",
       "      <th>state</th>\n",
       "      <th>pop</th>\n",
       "      <th>cases</th>\n",
       "      <th>deaths</th>\n",
       "      <th>casesPerCapita</th>\n",
       "      <th>deathsPerCapita</th>\n",
       "    </tr>\n",
       "  </thead>\n",
       "  <tbody>\n",
       "    <tr>\n",
       "      <th>0</th>\n",
       "      <td>43851</td>\n",
       "      <td>Snohomish County</td>\n",
       "      <td>Washington</td>\n",
       "      <td>209714.0</td>\n",
       "      <td>1</td>\n",
       "      <td>0</td>\n",
       "      <td>0.000005</td>\n",
       "      <td>0.000000</td>\n",
       "    </tr>\n",
       "    <tr>\n",
       "      <th>1</th>\n",
       "      <td>43852</td>\n",
       "      <td>Snohomish County</td>\n",
       "      <td>Washington</td>\n",
       "      <td>209714.0</td>\n",
       "      <td>1</td>\n",
       "      <td>0</td>\n",
       "      <td>0.000005</td>\n",
       "      <td>0.000000</td>\n",
       "    </tr>\n",
       "    <tr>\n",
       "      <th>2</th>\n",
       "      <td>43853</td>\n",
       "      <td>Snohomish County</td>\n",
       "      <td>Washington</td>\n",
       "      <td>209714.0</td>\n",
       "      <td>1</td>\n",
       "      <td>0</td>\n",
       "      <td>0.000005</td>\n",
       "      <td>0.000000</td>\n",
       "    </tr>\n",
       "    <tr>\n",
       "      <th>3</th>\n",
       "      <td>43854</td>\n",
       "      <td>Cook County</td>\n",
       "      <td>Illinois</td>\n",
       "      <td>17212.0</td>\n",
       "      <td>1</td>\n",
       "      <td>0</td>\n",
       "      <td>0.000058</td>\n",
       "      <td>0.000000</td>\n",
       "    </tr>\n",
       "    <tr>\n",
       "      <th>4</th>\n",
       "      <td>43854</td>\n",
       "      <td>Snohomish County</td>\n",
       "      <td>Washington</td>\n",
       "      <td>209714.0</td>\n",
       "      <td>1</td>\n",
       "      <td>0</td>\n",
       "      <td>0.000005</td>\n",
       "      <td>0.000000</td>\n",
       "    </tr>\n",
       "    <tr>\n",
       "      <th>...</th>\n",
       "      <td>...</td>\n",
       "      <td>...</td>\n",
       "      <td>...</td>\n",
       "      <td>...</td>\n",
       "      <td>...</td>\n",
       "      <td>...</td>\n",
       "      <td>...</td>\n",
       "      <td>...</td>\n",
       "    </tr>\n",
       "    <tr>\n",
       "      <th>701452</th>\n",
       "      <td>44140</td>\n",
       "      <td>Daniels County</td>\n",
       "      <td>Montana</td>\n",
       "      <td>16633.0</td>\n",
       "      <td>55</td>\n",
       "      <td>3</td>\n",
       "      <td>0.003307</td>\n",
       "      <td>0.000180</td>\n",
       "    </tr>\n",
       "    <tr>\n",
       "      <th>703050</th>\n",
       "      <td>44140</td>\n",
       "      <td>Wood County</td>\n",
       "      <td>Wisconsin</td>\n",
       "      <td>7208.0</td>\n",
       "      <td>2337</td>\n",
       "      <td>17</td>\n",
       "      <td>0.324223</td>\n",
       "      <td>0.002358</td>\n",
       "    </tr>\n",
       "    <tr>\n",
       "      <th>703049</th>\n",
       "      <td>44140</td>\n",
       "      <td>Winnebago County</td>\n",
       "      <td>Wisconsin</td>\n",
       "      <td>166994.0</td>\n",
       "      <td>10456</td>\n",
       "      <td>77</td>\n",
       "      <td>0.062613</td>\n",
       "      <td>0.000461</td>\n",
       "    </tr>\n",
       "    <tr>\n",
       "      <th>703063</th>\n",
       "      <td>44140</td>\n",
       "      <td>Natrona County</td>\n",
       "      <td>Wyoming</td>\n",
       "      <td>189885.0</td>\n",
       "      <td>1936</td>\n",
       "      <td>12</td>\n",
       "      <td>0.010196</td>\n",
       "      <td>0.000063</td>\n",
       "    </tr>\n",
       "    <tr>\n",
       "      <th>703073</th>\n",
       "      <td>44140</td>\n",
       "      <td>Weston County</td>\n",
       "      <td>Wyoming</td>\n",
       "      <td>9154.0</td>\n",
       "      <td>203</td>\n",
       "      <td>1</td>\n",
       "      <td>0.022176</td>\n",
       "      <td>0.000109</td>\n",
       "    </tr>\n",
       "  </tbody>\n",
       "</table>\n",
       "<p>703074 rows × 8 columns</p>\n",
       "</div>"
      ],
      "text/plain": [
       "         date            county       state       pop  cases  deaths  \\\n",
       "0       43851  Snohomish County  Washington  209714.0      1       0   \n",
       "1       43852  Snohomish County  Washington  209714.0      1       0   \n",
       "2       43853  Snohomish County  Washington  209714.0      1       0   \n",
       "3       43854       Cook County    Illinois   17212.0      1       0   \n",
       "4       43854  Snohomish County  Washington  209714.0      1       0   \n",
       "...       ...               ...         ...       ...    ...     ...   \n",
       "701452  44140    Daniels County     Montana   16633.0     55       3   \n",
       "703050  44140       Wood County   Wisconsin    7208.0   2337      17   \n",
       "703049  44140  Winnebago County   Wisconsin  166994.0  10456      77   \n",
       "703063  44140    Natrona County     Wyoming  189885.0   1936      12   \n",
       "703073  44140     Weston County     Wyoming    9154.0    203       1   \n",
       "\n",
       "        casesPerCapita  deathsPerCapita  \n",
       "0             0.000005         0.000000  \n",
       "1             0.000005         0.000000  \n",
       "2             0.000005         0.000000  \n",
       "3             0.000058         0.000000  \n",
       "4             0.000005         0.000000  \n",
       "...                ...              ...  \n",
       "701452        0.003307         0.000180  \n",
       "703050        0.324223         0.002358  \n",
       "703049        0.062613         0.000461  \n",
       "703063        0.010196         0.000063  \n",
       "703073        0.022176         0.000109  \n",
       "\n",
       "[703074 rows x 8 columns]"
      ]
     },
     "execution_count": 24,
     "metadata": {},
     "output_type": "execute_result"
    }
   ],
   "source": [
    "allData = allData.sort_values(by=['date'])\n",
    "allData"
   ]
  },
  {
   "cell_type": "code",
   "execution_count": 43,
   "metadata": {},
   "outputs": [],
   "source": [
    "allData = allData.dropna()"
   ]
  },
  {
   "cell_type": "code",
   "execution_count": 49,
   "metadata": {},
   "outputs": [],
   "source": []
  },
  {
   "cell_type": "code",
   "execution_count": 51,
   "metadata": {},
   "outputs": [
    {
     "ename": "IndentationError",
     "evalue": "unexpected indent (<ipython-input-51-7e7e241de865>, line 8)",
     "output_type": "error",
     "traceback": [
      "\u001b[1;36m  File \u001b[1;32m\"<ipython-input-51-7e7e241de865>\"\u001b[1;36m, line \u001b[1;32m8\u001b[0m\n\u001b[1;33m    for colName in fieldnames:\u001b[0m\n\u001b[1;37m    ^\u001b[0m\n\u001b[1;31mIndentationError\u001b[0m\u001b[1;31m:\u001b[0m unexpected indent\n"
     ]
    }
   ],
   "source": [
    "isoForestFileName = \"AnomaliesTimespreadByIsoForest.csv\"\n",
    "if path.exists(isoForestFileName):\n",
    "    os.remove(isoForestFileName)\n",
    "with open(isoForestFileName, 'a', newline='') as csvfile:\n",
    "    fieldnames = snapData.columns\n",
    "    writer = csv.DictWriter(csvfile, fieldnames=fieldnames)\n",
    "    myHeaderRowData = {}\n",
    "            for colName in fieldnames:\n",
    "                myHeaderRowData[colName] = colName\n",
    "            writer.writerow(myHeaderRowData)\n",
    "            \n",
    "    for date in range(minDate, maxDate):\n",
    "        currentDateData = allData[allData['date'] == date]\n",
    "\n",
    "        #Isolation Forest\n",
    "        model=IsolationForest(n_estimators=100, max_samples='auto', contamination=float(0.01),max_features=1.0)\n",
    "        model.fit(currentDateData[['deathsPerCapita']])\n",
    "        currentDateData['scores']=model.decision_function(currentDateData[['deathsPerCapita']])\n",
    "        currentDateData['anomaly']=model.predict(currentDateData[['deathsPerCapita']])\n",
    "        anomaly=currentDateData.loc[currentDateData['anomaly']==-1]\n",
    "        anomaly_index=list(anomaly.index)\n",
    "        for index, row in currentDateData.iterrows():\n",
    "            myRowData = {}\n",
    "            for colName in fieldnames:\n",
    "                myRowData[colName] = row[colName]\n",
    "            writer.writerow(myRowData)\n",
    "\n",
    "\n",
    "        #LOF\n",
    "        #lof_model = LocalOutlierFactor(contamination=.02)\n",
    "        #lof_labels = lof_model.fit_predict(currentDateData[['cases', 'deaths', 'casesPerCapita', 'deathsPerCapita']])\n",
    "        #sns.scatterplot(x=anomaly_data['unix'], y=anomaly_data['value'], hue=anomaly_lbls, palette=colors)\n",
    "    "
   ]
  },
  {
   "cell_type": "code",
   "execution_count": 42,
   "metadata": {},
   "outputs": [
    {
     "data": {
      "text/plain": [
       "array([1, 1, 1, ..., 1, 1, 1])"
      ]
     },
     "execution_count": 42,
     "metadata": {},
     "output_type": "execute_result"
    }
   ],
   "source": [
    "lof_model = LocalOutlierFactor(contamination=.02)\n",
    "lof_labels = lof_model.fit_predict(currentDateData[['cases', 'deaths', 'casesPerCapita', 'deathsPerCapita']])\n",
    "sns.scatterplot(x=anomaly_data['unix'], y=anomaly_data['value'], hue=anomaly_lbls, palette=colors)"
   ]
  },
  {
   "cell_type": "code",
   "execution_count": null,
   "metadata": {},
   "outputs": [],
   "source": []
  }
 ],
 "metadata": {
  "kernelspec": {
   "display_name": "Python 3",
   "language": "python",
   "name": "python3"
  },
  "language_info": {
   "codemirror_mode": {
    "name": "ipython",
    "version": 3
   },
   "file_extension": ".py",
   "mimetype": "text/x-python",
   "name": "python",
   "nbconvert_exporter": "python",
   "pygments_lexer": "ipython3",
   "version": "3.8.3"
  }
 },
 "nbformat": 4,
 "nbformat_minor": 4
}
