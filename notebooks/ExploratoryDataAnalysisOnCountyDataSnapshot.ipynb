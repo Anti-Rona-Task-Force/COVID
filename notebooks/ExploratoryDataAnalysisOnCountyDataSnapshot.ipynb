{
 "cells": [
  {
   "cell_type": "code",
   "execution_count": 1,
   "metadata": {},
   "outputs": [],
   "source": [
    "import sys\n",
    "sys.path.append('/usr/local/lib/python3.8/site-packages')\n",
    "import numpy as np\n",
    "import pandas as pd\n",
    "from scipy.stats import binom"
   ]
  },
  {
   "cell_type": "code",
   "execution_count": 2,
   "metadata": {},
   "outputs": [],
   "source": [
    "snapData = pd.read_csv('../data/raw/countiesDataPerCapitaSnapshot.csv')"
   ]
  },
  {
   "cell_type": "code",
   "execution_count": 3,
   "metadata": {},
   "outputs": [
    {
     "data": {
      "text/html": [
       "<div>\n",
       "<style scoped>\n",
       "    .dataframe tbody tr th:only-of-type {\n",
       "        vertical-align: middle;\n",
       "    }\n",
       "\n",
       "    .dataframe tbody tr th {\n",
       "        vertical-align: top;\n",
       "    }\n",
       "\n",
       "    .dataframe thead th {\n",
       "        text-align: right;\n",
       "    }\n",
       "</style>\n",
       "<table border=\"1\" class=\"dataframe\">\n",
       "  <thead>\n",
       "    <tr style=\"text-align: right;\">\n",
       "      <th></th>\n",
       "      <th>date</th>\n",
       "      <th>county</th>\n",
       "      <th>state</th>\n",
       "      <th>pop</th>\n",
       "      <th>cases</th>\n",
       "      <th>deaths</th>\n",
       "      <th>casesPerCapita</th>\n",
       "      <th>deathsPerCapita</th>\n",
       "    </tr>\n",
       "  </thead>\n",
       "  <tbody>\n",
       "    <tr>\n",
       "      <th>0</th>\n",
       "      <td>44034</td>\n",
       "      <td>Autauga County</td>\n",
       "      <td>Alabama</td>\n",
       "      <td>71518.0</td>\n",
       "      <td>886</td>\n",
       "      <td>21</td>\n",
       "      <td>0.012388</td>\n",
       "      <td>0.000294</td>\n",
       "    </tr>\n",
       "    <tr>\n",
       "      <th>1</th>\n",
       "      <td>44034</td>\n",
       "      <td>Baldwin County</td>\n",
       "      <td>Alabama</td>\n",
       "      <td>45720.0</td>\n",
       "      <td>2196</td>\n",
       "      <td>16</td>\n",
       "      <td>0.048031</td>\n",
       "      <td>0.000350</td>\n",
       "    </tr>\n",
       "    <tr>\n",
       "      <th>2</th>\n",
       "      <td>44034</td>\n",
       "      <td>Barbour County</td>\n",
       "      <td>Alabama</td>\n",
       "      <td>18395.0</td>\n",
       "      <td>518</td>\n",
       "      <td>4</td>\n",
       "      <td>0.028160</td>\n",
       "      <td>0.000217</td>\n",
       "    </tr>\n",
       "    <tr>\n",
       "      <th>3</th>\n",
       "      <td>44034</td>\n",
       "      <td>Bibb County</td>\n",
       "      <td>Alabama</td>\n",
       "      <td>155547.0</td>\n",
       "      <td>287</td>\n",
       "      <td>2</td>\n",
       "      <td>0.001845</td>\n",
       "      <td>0.000013</td>\n",
       "    </tr>\n",
       "    <tr>\n",
       "      <th>4</th>\n",
       "      <td>44034</td>\n",
       "      <td>Blount County</td>\n",
       "      <td>Alabama</td>\n",
       "      <td>13063.0</td>\n",
       "      <td>547</td>\n",
       "      <td>1</td>\n",
       "      <td>0.041874</td>\n",
       "      <td>0.000077</td>\n",
       "    </tr>\n",
       "  </tbody>\n",
       "</table>\n",
       "</div>"
      ],
      "text/plain": [
       "    date          county    state       pop  cases  deaths  casesPerCapita  \\\n",
       "0  44034  Autauga County  Alabama   71518.0    886      21        0.012388   \n",
       "1  44034  Baldwin County  Alabama   45720.0   2196      16        0.048031   \n",
       "2  44034  Barbour County  Alabama   18395.0    518       4        0.028160   \n",
       "3  44034     Bibb County  Alabama  155547.0    287       2        0.001845   \n",
       "4  44034   Blount County  Alabama   13063.0    547       1        0.041874   \n",
       "\n",
       "   deathsPerCapita  \n",
       "0         0.000294  \n",
       "1         0.000350  \n",
       "2         0.000217  \n",
       "3         0.000013  \n",
       "4         0.000077  "
      ]
     },
     "execution_count": 3,
     "metadata": {},
     "output_type": "execute_result"
    }
   ],
   "source": [
    "snapData.head()"
   ]
  },
  {
   "cell_type": "code",
   "execution_count": 4,
   "metadata": {},
   "outputs": [
    {
     "name": "stdout",
     "output_type": "stream",
     "text": [
      "<class 'pandas.core.frame.DataFrame'>\n",
      "RangeIndex: 3206 entries, 0 to 3205\n",
      "Data columns (total 8 columns):\n",
      " #   Column           Non-Null Count  Dtype  \n",
      "---  ------           --------------  -----  \n",
      " 0   date             3206 non-null   int64  \n",
      " 1   county           3206 non-null   object \n",
      " 2   state            3206 non-null   object \n",
      " 3   pop              3128 non-null   float64\n",
      " 4   cases            3206 non-null   int64  \n",
      " 5   deaths           3206 non-null   int64  \n",
      " 6   casesPerCapita   3128 non-null   float64\n",
      " 7   deathsPerCapita  3128 non-null   float64\n",
      "dtypes: float64(3), int64(3), object(2)\n",
      "memory usage: 200.5+ KB\n"
     ]
    }
   ],
   "source": [
    "snapData.info()"
   ]
  },
  {
   "cell_type": "code",
   "execution_count": 5,
   "metadata": {},
   "outputs": [
    {
     "data": {
      "text/html": [
       "<div>\n",
       "<style scoped>\n",
       "    .dataframe tbody tr th:only-of-type {\n",
       "        vertical-align: middle;\n",
       "    }\n",
       "\n",
       "    .dataframe tbody tr th {\n",
       "        vertical-align: top;\n",
       "    }\n",
       "\n",
       "    .dataframe thead th {\n",
       "        text-align: right;\n",
       "    }\n",
       "</style>\n",
       "<table border=\"1\" class=\"dataframe\">\n",
       "  <thead>\n",
       "    <tr style=\"text-align: right;\">\n",
       "      <th></th>\n",
       "      <th>date</th>\n",
       "      <th>pop</th>\n",
       "      <th>cases</th>\n",
       "      <th>deaths</th>\n",
       "      <th>casesPerCapita</th>\n",
       "      <th>deathsPerCapita</th>\n",
       "    </tr>\n",
       "  </thead>\n",
       "  <tbody>\n",
       "    <tr>\n",
       "      <th>count</th>\n",
       "      <td>3206.0</td>\n",
       "      <td>3.128000e+03</td>\n",
       "      <td>3206.000000</td>\n",
       "      <td>3206.000000</td>\n",
       "      <td>3128.000000</td>\n",
       "      <td>3128.000000</td>\n",
       "    </tr>\n",
       "    <tr>\n",
       "      <th>mean</th>\n",
       "      <td>44034.0</td>\n",
       "      <td>7.145710e+04</td>\n",
       "      <td>1241.431691</td>\n",
       "      <td>44.598253</td>\n",
       "      <td>0.084160</td>\n",
       "      <td>0.002930</td>\n",
       "    </tr>\n",
       "    <tr>\n",
       "      <th>std</th>\n",
       "      <td>0.0</td>\n",
       "      <td>1.586812e+05</td>\n",
       "      <td>6680.148556</td>\n",
       "      <td>447.486339</td>\n",
       "      <td>0.666674</td>\n",
       "      <td>0.030307</td>\n",
       "    </tr>\n",
       "    <tr>\n",
       "      <th>min</th>\n",
       "      <td>44034.0</td>\n",
       "      <td>9.840000e+02</td>\n",
       "      <td>0.000000</td>\n",
       "      <td>0.000000</td>\n",
       "      <td>0.000000</td>\n",
       "      <td>0.000000</td>\n",
       "    </tr>\n",
       "    <tr>\n",
       "      <th>25%</th>\n",
       "      <td>44034.0</td>\n",
       "      <td>1.099800e+04</td>\n",
       "      <td>40.000000</td>\n",
       "      <td>0.000000</td>\n",
       "      <td>0.001228</td>\n",
       "      <td>0.000000</td>\n",
       "    </tr>\n",
       "    <tr>\n",
       "      <th>50%</th>\n",
       "      <td>44034.0</td>\n",
       "      <td>2.331600e+04</td>\n",
       "      <td>146.000000</td>\n",
       "      <td>2.000000</td>\n",
       "      <td>0.006062</td>\n",
       "      <td>0.000067</td>\n",
       "    </tr>\n",
       "    <tr>\n",
       "      <th>75%</th>\n",
       "      <td>44034.0</td>\n",
       "      <td>5.349700e+04</td>\n",
       "      <td>558.750000</td>\n",
       "      <td>12.000000</td>\n",
       "      <td>0.025719</td>\n",
       "      <td>0.000533</td>\n",
       "    </tr>\n",
       "    <tr>\n",
       "      <th>max</th>\n",
       "      <td>44034.0</td>\n",
       "      <td>1.809034e+06</td>\n",
       "      <td>227130.000000</td>\n",
       "      <td>22899.000000</td>\n",
       "      <td>28.604698</td>\n",
       "      <td>1.370470</td>\n",
       "    </tr>\n",
       "  </tbody>\n",
       "</table>\n",
       "</div>"
      ],
      "text/plain": [
       "          date           pop          cases        deaths  casesPerCapita  \\\n",
       "count   3206.0  3.128000e+03    3206.000000   3206.000000     3128.000000   \n",
       "mean   44034.0  7.145710e+04    1241.431691     44.598253        0.084160   \n",
       "std        0.0  1.586812e+05    6680.148556    447.486339        0.666674   \n",
       "min    44034.0  9.840000e+02       0.000000      0.000000        0.000000   \n",
       "25%    44034.0  1.099800e+04      40.000000      0.000000        0.001228   \n",
       "50%    44034.0  2.331600e+04     146.000000      2.000000        0.006062   \n",
       "75%    44034.0  5.349700e+04     558.750000     12.000000        0.025719   \n",
       "max    44034.0  1.809034e+06  227130.000000  22899.000000       28.604698   \n",
       "\n",
       "       deathsPerCapita  \n",
       "count      3128.000000  \n",
       "mean          0.002930  \n",
       "std           0.030307  \n",
       "min           0.000000  \n",
       "25%           0.000000  \n",
       "50%           0.000067  \n",
       "75%           0.000533  \n",
       "max           1.370470  "
      ]
     },
     "execution_count": 5,
     "metadata": {},
     "output_type": "execute_result"
    }
   ],
   "source": [
    "snapData.describe()"
   ]
  },
  {
   "cell_type": "code",
   "execution_count": 6,
   "metadata": {},
   "outputs": [
    {
     "data": {
      "image/png": "[encoded data removed]",
      "text/plain": [
       "<Figure size 432x288 with 1 Axes>"
      ]
     },
     "metadata": {
      "needs_background": "light"
     },
     "output_type": "display_data"
    }
   ],
   "source": [
    "casesHist = snapData['casesPerCapita'].hist(bins=100)"
   ]
  },
  {
   "cell_type": "code",
   "execution_count": 7,
   "metadata": {},
   "outputs": [
    {
     "data": {
      "image/png": "[encoded data removed]",
      "text/plain": [
       "<Figure size 432x288 with 1 Axes>"
      ]
     },
     "metadata": {
      "needs_background": "light"
     },
     "output_type": "display_data"
    }
   ],
   "source": [
    "#casesHist = snapData['casesPerCapita'].hist(bins=100)\n",
    "out = pd.cut(snapData['casesPerCapita'], bins=100)\n",
    "counts = out.value_counts(sort=False)\n",
    "plt = counts[counts < 1000].plot.bar()\n",
    "#plt.axis('off')\n",
    "plt.axes.get_xaxis().get_label().set_visible(False)"
   ]
  },
  {
   "cell_type": "code",
   "execution_count": 8,
   "metadata": {},
   "outputs": [
    {
     "data": {
      "image/png": "[encoded data removed]",
      "text/plain": [
       "<Figure size 432x288 with 1 Axes>"
      ]
     },
     "metadata": {
      "needs_background": "light"
     },
     "output_type": "display_data"
    }
   ],
   "source": [
    "casesHist = snapData['deathsPerCapita'].hist(bins=10)"
   ]
  },
  {
   "cell_type": "code",
   "execution_count": 9,
   "metadata": {},
   "outputs": [],
   "source": [
    "#From looking at the histograms, I am not seeing any distribution that the number of cases or number of deaths per capita\n",
    "#seem to follow\n",
    "#From a theoretical perspective, we would expect that each individual person has a certain chance of living and a\n",
    "#certain chance of dying. That would tend to mean that the total deaths/cases distribution for a certain county would be a\n",
    "#binomial distribution with probability p and n being the number of people in the county. This is maybe not the best model\n",
    "#because the deaths and cases would be correlated to each other. Supposing that the correlation wasn't the case, we still\n",
    "#couldn't use it because we are actually trying to model deaths/cases per capita and do that for each county as our distribution.\n",
    "#The fact we are doing per capita messes up our nice binomial distribution. We must use per capita though or we can't compare\n",
    "#counties. This means that we can't use a classical statistically based method of finding anomalies."
   ]
  }
 ],
 "metadata": {
  "kernelspec": {
   "display_name": "Python 3",
   "language": "python",
   "name": "python3"
  },
  "language_info": {
   "codemirror_mode": {
    "name": "ipython",
    "version": 3
   },
   "file_extension": ".py",
   "mimetype": "text/x-python",
   "name": "python",
   "nbconvert_exporter": "python",
   "pygments_lexer": "ipython3",
   "version": "3.8.5"
  }
 },
 "nbformat": 4,
 "nbformat_minor": 4
}
